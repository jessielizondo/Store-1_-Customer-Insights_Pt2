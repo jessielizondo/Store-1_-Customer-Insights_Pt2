{
 "cells": [
  {
   "cell_type": "markdown",
   "metadata": {},
   "source": [
    "# 🛒 Store 1 Customer Insights\n",
    "## 📌 Introducción  \n",
    "**Store 1**, una empresa de comercio electrónico, continúa con la segunda fase de su proyecto de análisis de clientes. En esta etapa se aprovechan los cimientos construidos en la primera parte —limpieza y análisis preliminar— para abordar **desafíos más avanzados** que profundicen el conocimiento del comportamiento del cliente.\n",
    "\n",
    "El análisis sigue centrado en tres aspectos clave:\n",
    "\n",
    "- La **edad** de los clientes  \n",
    "- Su **historial de compras**  \n",
    "- Las **categorías** de productos adquiridos  \n",
    "\n",
    "Esta fase busca generar insights más complejos y relevantes para mejorar la segmentación de clientes y la efectividad de las campañas de marketing personalizadas.\n"
   ]
  },
  {
   "cell_type": "markdown",
   "metadata": {},
   "source": [
    "## 🎯 Problema de negocio\n",
    "El comportamiento del cliente varía según su edad, intereses y hábitos. Tras la limpieza y exploración inicial de los datos en la primera parte del proyecto, ahora Store 1 busca profundizar en estos patrones para:\n",
    "\n",
    "- Segmentar a los clientes en grupos más definidos\n",
    "- Diseñar campañas personalizadas más efectivas\n",
    "- Identificar a los clientes más valiosos para estrategias de fidelización y retención\n",
    "\n"
   ]
  },
  {
   "cell_type": "markdown",
   "metadata": {},
   "source": [
    "## 🔍 Objetivos avanzados\n",
    "✔ Analizar patrones complejos de comportamiento por edad y categoría\n",
    "\n",
    "✔ Detectar segmentos con alto valor comercial\n",
    "\n",
    "✔ Aplicar agrupamientos o modelos exploratorios si es necesario\n",
    "\n",
    "✔ Generar insights accionables para estrategias de marketing avanzadas"
   ]
  },
  {
   "cell_type": "markdown",
   "metadata": {},
   "source": [
    "## 📊 Métricas clave\n",
    "📌 Métricas de clientes\n",
    "- Distribución avanzada por edad y frecuencia\n",
    "- Valor de vida del cliente (CLV estimado, si aplica)\n",
    "- Agrupamiento de clientes por características comunes\n",
    "\n",
    "📌 Métricas de productos\n",
    "- Preferencias de categoría por grupo demográfico\n",
    "- Relación entre categorías y tipo de cliente\n",
    "\n",
    "📌 Insights esperados\n",
    "- Segmentos de clientes valiosos y recurrentes\n",
    "- Tendencias profundas de comportamiento\n",
    "- Visualización de patrones que no fueron evidentes en la Parte 1\n",
    "\n"
   ]
  },
  {
   "cell_type": "markdown",
   "metadata": {},
   "source": [
    "## 🗂 Descripción del conjunto de datos\n",
    "Origen: Datos internos de Store 1\n",
    "Resumen:\n",
    "\n",
    "- Aprox. 1000 filas | Varias columnas\n",
    "\n",
    "- Columnas clave:\n",
    "    - customer_id\n",
    "    - age\n",
    "    - purchase_date\n",
    "    - category\n",
    "    - purchase_value\n"
   ]
  },
  {
   "cell_type": "markdown",
   "metadata": {},
   "source": [
    "## 🧾 Resumen de la primera parte del proyecto"
   ]
  },
  {
   "cell_type": "markdown",
   "metadata": {
    "id": "4ZzATQthJm9Y"
   },
   "source": [
    "Store 1 quiere almacenar toda la información de sus clientes en una tabla.\n",
    "\n",
    "\n",
    "| user_id | user_name | user_age | purchase_category | spending_per_category |\n",
    "| --- | --- | --- | --- | --- |\n",
    "| '32415' | 'mike', 'reed' | 32 | 'electronics', 'sport', 'books' | 894, 213, 173 |\n",
    "| '31980' | 'kate', 'morgan' | 24 | 'clothes', 'shoes' | 439, 390 |\n",
    "\n",
    "Store 1 ha creado una tabla de este tipo para sus usuarios. Está almacenada en la variable \"users\". Cada sublista contiene el ID del usuario, nombre y apellido, edad, categorías favoritas y el importe gastado en cada categoría."
   ]
  },
  {
   "cell_type": "markdown",
   "metadata": {
    "id": "EMQlsEYlxGET"
   },
   "source": [
    "-\t**user_id:** el identificador único para cada usuario.\n",
    "-\t**user_name:** el nombre de usuario.\n",
    "-\t**user_age:** la edad del usuario.\n",
    "-\t**fav_categories:** las categorías de artículos comprados por el usuario, como 'ELECTRONICS', 'SPORT', 'BOOKS', etc.\n",
    "-\t**total_spendings:** la lista de enteros que indican la cantidad gastada en cada una de sus categorías favoritas.\n"
   ]
  },
  {
   "cell_type": "code",
   "execution_count": 1,
   "metadata": {
    "id": "LfBCH4crxLOt"
   },
   "outputs": [],
   "source": [
    "users = [\n",
    "    ['32415', ' mike_reed ', 32.0, ['ELECTRONICS', 'SPORT', 'BOOKS'], [894, 213, 173]],\n",
    "    ['31980', 'kate morgan', 24.0, ['CLOTHES', 'BOOKS'], [439, 390]],\n",
    "    ['32156', ' john doe ', 37.0, ['ELECTRONICS', 'HOME', 'FOOD'], [459, 120, 99]],\n",
    "    ['32761', 'SAMANTHA SMITH', 29.0, ['CLOTHES', 'ELECTRONICS', 'BEAUTY'], [299, 679, 85]],\n",
    "    ['32984', 'David White', 41.0, ['BOOKS', 'HOME', 'SPORT'], [234, 329, 243]],\n",
    "    ['33001', 'emily brown', 26.0, ['BEAUTY', 'HOME', 'FOOD'], [213, 659, 79]],\n",
    "    ['33767', ' Maria Garcia', 33.0, ['CLOTHES', 'FOOD', 'BEAUTY'], [499, 189, 63]],\n",
    "    ['33912', 'JOSE MARTINEZ', 22.0, ['SPORT', 'ELECTRONICS', 'HOME'], [259, 549, 109]],\n",
    "    ['34009', 'lisa wilson ', 35.0, ['HOME', 'BOOKS', 'CLOTHES'], [329, 189, 329]],\n",
    "    ['34278', 'James Lee', 28.0, ['BEAUTY', 'CLOTHES', 'ELECTRONICS'], [189, 299, 579]],\n",
    "]\n"
   ]
  },
  {
   "cell_type": "markdown",
   "metadata": {
    "id": "vgnoxECvlWvr"
   },
   "source": [
    "### 📍 En la primera parte de este proyecto se escribió un código para:\n",
    "\n",
    "1. Eliminar todos los espacios iniciales y finales de los nombres, así como cualquier guion bajo.\n",
    "2. Convertir todas las edades en números enteros.\n",
    "3. Separar todos los nombres y apellidos en una sublista.\n"
   ]
  },
  {
   "cell_type": "markdown",
   "metadata": {},
   "source": [
    "## 📐 1. Función clean_user\n",
    "\n",
    "Se creó una función para fijar a cualquier cliente. Esta recibe una lista con toda la información del cliente (user_info), así como dos enteros. Uno de ellos señala el índice del nombre del cliente y el otro es el índice de la edad del cliente en la lista. La función devuelve la lista limpia después de aplicar todos los cambios anteriores.\n"
   ]
  },
  {
   "cell_type": "code",
   "execution_count": 2,
   "metadata": {
    "colab": {
     "base_uri": "https://localhost:8080/"
    },
    "id": "RN6LIlHelWvr",
    "outputId": "632ceadd-0f9a-46cf-91c1-b4bea53623d0"
   },
   "outputs": [
    {
     "name": "stdout",
     "output_type": "stream",
     "text": [
      "['32415', ['mike', 'reed'], 32, ['ELECTRONICS', 'SPORT', 'BOOKS'], [894, 213, 173]]\n"
     ]
    }
   ],
   "source": [
    "# define tu función aquí\n",
    "def clean_user (user_info,name_index,age_index):\n",
    "\n",
    "    # Paso 1: elimina del nombre espacios iniciales y finales, así como guiones\n",
    "    user_name_1 = user_info[name_index].strip().replace('_',' ')\n",
    "\n",
    "    # Paso 2: convierte la edad en entero\n",
    "    user_age_1 = int(user_info[age_index])\n",
    "\n",
    "    # Paso 3: separa el nombre y el apellido en una sublista\n",
    "    user_name_1 = user_name_1.split()\n",
    "\n",
    "    # Prepara la lista con la información completa del usuario\n",
    "    \n",
    "    # Reemplaza el nombre y la edad originales con los datos limpios\n",
    "    user_info[name_index] = user_name_1\n",
    "    user_info[age_index] = user_age_1\n",
    "\n",
    "    return user_info\n",
    "\n",
    "# Prueba la función\n",
    "test_user = ['32415', ' mike_reed ', 32.0, ['ELECTRONICS', 'SPORT', 'BOOKS'], [894, 213, 173]]\n",
    "name_index = 1\n",
    "age_index = 2\n",
    "\n",
    "print(clean_user(test_user,name_index,age_index)) # completa aquí el llamado de la función"
   ]
  },
  {
   "cell_type": "markdown",
   "metadata": {
    "id": "zF6ADQNLJm9W"
   },
   "source": [
    "## 📋  2. Lista de categorías\n",
    "\n",
    "Todas las categorías favoritas están almacenadas en mayúsculas. Se llenó una nueva lista llamada `fav_categories_low` con las mismas categorías, pero en minúsculas, iterando sobre los valores en la lista `fav_categories`, modificándolos.\n"
   ]
  },
  {
   "cell_type": "code",
   "execution_count": 3,
   "metadata": {
    "colab": {
     "base_uri": "https://localhost:8080/"
    },
    "id": "Ltoq2LXjJm9W",
    "outputId": "5a05c845-8d3c-4890-8070-38ccb63dd5b4"
   },
   "outputs": [
    {
     "name": "stdout",
     "output_type": "stream",
     "text": [
      "['electronics', 'sport', 'books']\n"
     ]
    }
   ],
   "source": [
    "fav_categories = ['ELECTRONICS', 'SPORT', 'BOOKS']\n",
    "fav_categories_low = []\n",
    "\n",
    "# escribe tu código aquí\n",
    "for category in fav_categories:\n",
    "    fav_categories_low.append(category.lower())\n",
    "\n",
    "print(fav_categories_low)"
   ]
  },
  {
   "cell_type": "markdown",
   "metadata": {
    "id": "xhKqJwaqdrRu"
   },
   "source": [
    "## 📋  3. Lista de categorías completa\n",
    "\n",
    "Se llenó una lista nueva llamada `users_categories_low` con los mismos usuarios, pero con sus categorías en minúsculas, iterando sobre los valores en la lista `users`, luego se iteró sobre los valores en `user_categories`, modificándolos, y se agregaron los nuevos valores de usuarios a la lista `users_categories_low`. "
   ]
  },
  {
   "cell_type": "code",
   "execution_count": 4,
   "metadata": {
    "colab": {
     "base_uri": "https://localhost:8080/"
    },
    "id": "uBfnDzZfdrR1",
    "outputId": "6e0b3a3b-c94e-4402-a9d1-dc88fe07256e"
   },
   "outputs": [
    {
     "name": "stdout",
     "output_type": "stream",
     "text": [
      "[['32415', ' mike_reed ', 32.0, ['electronics', 'sport', 'books'], [894, 213, 173]], ['31980', 'kate morgan', 24.0, ['clothes', 'books'], [439, 390]], ['32156', ' john doe ', 37.0, ['electronics', 'home', 'food'], [459, 120, 99]], ['32761', 'SAMANTHA SMITH', 29.0, ['clothes', 'electronics', 'beauty'], [299, 679, 85]], ['32984', 'David White', 41.0, ['books', 'home', 'sport'], [234, 329, 243]], ['33001', 'emily brown', 26.0, ['beauty', 'home', 'food'], [213, 659, 79]], ['33767', ' Maria Garcia', 33.0, ['clothes', 'food', 'beauty'], [499, 189, 63]], ['33912', 'JOSE MARTINEZ', 22.0, ['sport', 'electronics', 'home'], [259, 549, 109]], ['34009', 'lisa wilson ', 35.0, ['home', 'books', 'clothes'], [329, 189, 329]], ['34278', 'James Lee', 28.0, ['beauty', 'clothes', 'electronics'], [189, 299, 579]]]\n"
     ]
    }
   ],
   "source": [
    "users = [\n",
    "    ['32415', ' mike_reed ', 32.0, ['ELECTRONICS', 'SPORT', 'BOOKS'], [894, 213, 173]],\n",
    "    ['31980', 'kate morgan', 24.0, ['CLOTHES', 'BOOKS'], [439, 390]],\n",
    "    ['32156', ' john doe ', 37.0, ['ELECTRONICS', 'HOME', 'FOOD'], [459, 120, 99]],\n",
    "    ['32761', 'SAMANTHA SMITH', 29.0, ['CLOTHES', 'ELECTRONICS', 'BEAUTY'], [299, 679, 85]],\n",
    "    ['32984', 'David White', 41.0, ['BOOKS', 'HOME', 'SPORT'], [234, 329, 243]],\n",
    "    ['33001', 'emily brown', 26.0, ['BEAUTY', 'HOME', 'FOOD'], [213, 659, 79]],\n",
    "    ['33767', ' Maria Garcia', 33.0, ['CLOTHES', 'FOOD', 'BEAUTY'], [499, 189, 63]],\n",
    "    ['33912', 'JOSE MARTINEZ', 22.0, ['SPORT', 'ELECTRONICS', 'HOME'], [259, 549, 109]],\n",
    "    ['34009', 'lisa wilson ', 35.0, ['HOME', 'BOOKS', 'CLOTHES'], [329, 189, 329]],\n",
    "    ['34278', 'James Lee', 28.0, ['BEAUTY', 'CLOTHES', 'ELECTRONICS'], [189, 299, 579]],\n",
    "]\n",
    "\n",
    "users_categories_low = []\n",
    "\n",
    "\n",
    "for user in users:\n",
    "\tcategories_low = []\n",
    "\tuser_categories = user[3]\n",
    "    \n",
    "\tfor category in user_categories:\n",
    "\t\tlowered_category = category.lower()\n",
    "\t\tcategories_low.append(lowered_category)\n",
    "\n",
    "    # modificar al usuario (pop,insert)\n",
    "\tuser.pop(3)\n",
    "\tuser.insert(3,categories_low)\n",
    "    \n",
    "    # agregar usuarios actalizados\n",
    "\tusers_categories_low.append(user)    \n",
    "\n",
    "print(users_categories_low)"
   ]
  },
  {
   "cell_type": "markdown",
   "metadata": {
    "id": "uisdgp0or8rS"
   },
   "source": [
    "## 🧹 4. Mejora de función clean_user\n",
    "\n",
    "Se complementó el código de la función `clean_user` para limpiar la categoría:\n",
    "1. Se añadió otro parámetro con el índice de categorías.\n",
    "2. Se pusieron todos nombres en minúsculas antes de aplicar \"strip\" y \"replace\"."
   ]
  },
  {
   "cell_type": "code",
   "execution_count": 5,
   "metadata": {
    "colab": {
     "base_uri": "https://localhost:8080/"
    },
    "id": "ioGD_Cs5r8ra",
    "outputId": "fddb59df-a686-4270-9a01-1803d53a0da9"
   },
   "outputs": [
    {
     "name": "stdout",
     "output_type": "stream",
     "text": [
      "[['32415', ['mike', 'reed'], 32, ['electronics', 'sport', 'books'], [894, 213, 173]], ['31980', ['kate', 'morgan'], 24, ['clothes', 'books'], [439, 390]], ['32156', ['john', 'doe'], 37, ['electronics', 'home', 'food'], [459, 120, 99]], ['32761', ['samantha', 'smith'], 29, ['clothes', 'electronics', 'beauty'], [299, 679, 85]], ['32984', ['david', 'white'], 41, ['books', 'home', 'sport'], [234, 329, 243]], ['33001', ['emily', 'brown'], 26, ['beauty', 'home', 'food'], [213, 659, 79]], ['33767', ['maria', 'garcia'], 33, ['clothes', 'food', 'beauty'], [499, 189, 63]], ['33912', ['jose', 'martinez'], 22, ['sport', 'electronics', 'home'], [259, 549, 109]], ['34009', ['lisa', 'wilson'], 35, ['home', 'books', 'clothes'], [329, 189, 329]], ['34278', ['james', 'lee'], 28, ['beauty', 'clothes', 'electronics'], [189, 299, 579]]]\n"
     ]
    }
   ],
   "source": [
    "def clean_user(user_info, name_index, age_index, cat_index):\n",
    "\n",
    "  # Paso 1: pon todo en minúsculas y elimina del nombre espacios iniciales y finales, así como guiones\n",
    "  user_name_1 = user_info[name_index].strip().replace('_',' ').lower()\n",
    "\n",
    "  # Paso 2: convierte la edad en entero\n",
    "  user_age_1 = int(user_info[age_index])\n",
    "\n",
    "  # Paso 3: separa el nombre y el apellido en una sublista\n",
    "  user_name_1 = user_name_1.split()\n",
    "\n",
    "  # Paso 4: separa el nombre y el apellido en una sublista\n",
    "  categories_low = []\n",
    "    \n",
    "  for category in user_info[cat_index]:\n",
    "    categories_low.append(category.lower())\n",
    "   \n",
    "\n",
    "  # Prepara la lista con la información completa del usuario\n",
    "      \n",
    "  # Reemplaza el nombre y la edad originales con los datos limpios\n",
    "    user_info[name_index] = user_name_1\n",
    "    user_info[age_index] = user_age_1\n",
    "    \n",
    "   # Reemplazar categorías\n",
    "    user_info[cat_index] = categories_low\n",
    "      \n",
    "  # escribe tu código aquí\n",
    "\n",
    "  return user_info          \n",
    "\n",
    "\n",
    "users = [\n",
    "    ['32415', ' mike_reed ', 32.0, ['ELECTRONICS', 'SPORT', 'BOOKS'], [894, 213, 173]],\n",
    "    ['31980', 'kate morgan', 24.0, ['CLOTHES', 'BOOKS'], [439, 390]],\n",
    "    ['32156', ' john doe ', 37.0, ['ELECTRONICS', 'HOME', 'FOOD'], [459, 120, 99]],\n",
    "    ['32761', 'SAMANTHA SMITH', 29.0, ['CLOTHES', 'ELECTRONICS', 'BEAUTY'], [299, 679, 85]],\n",
    "    ['32984', 'David White', 41.0, ['BOOKS', 'HOME', 'SPORT'], [234, 329, 243]],\n",
    "    ['33001', 'emily brown', 26.0, ['BEAUTY', 'HOME', 'FOOD'], [213, 659, 79]],\n",
    "    ['33767', ' Maria Garcia', 33.0, ['CLOTHES', 'FOOD', 'BEAUTY'], [499, 189, 63]],\n",
    "    ['33912', 'JOSE MARTINEZ', 22.0, ['SPORT', 'ELECTRONICS', 'HOME'], [259, 549, 109]],\n",
    "    ['34009', 'lisa wilson ', 35.0, ['HOME', 'BOOKS', 'CLOTHES'], [329, 189, 329]],\n",
    "    ['34278', 'James Lee', 28.0, ['BEAUTY', 'CLOTHES', 'ELECTRONICS'], [189, 299, 579]],\n",
    "]\n",
    "\n",
    "name_index = 1\n",
    "age_index = 2\n",
    "cat_index = 3\n",
    "users_cleaned = []\n",
    "\n",
    "for user in users:\n",
    "    user_cleaned = clean_user(user,name_index,age_index,cat_index)\n",
    "    users_cleaned.append(user_cleaned)                                  \n",
    "\n",
    "print(users_cleaned)"
   ]
  },
  {
   "cell_type": "markdown",
   "metadata": {},
   "source": [
    "## 🔍 5. Solicitudes de Store 1\n",
    "El equipo de dirección de Store 1 hizo algunas solicitudes de cambios para su la lista de datos de sus clientes. Estas se cumplieron en los siguientes pasos:"
   ]
  },
  {
   "cell_type": "markdown",
   "metadata": {
    "id": "eONfrv9nJm9Y"
   },
   "source": [
    "### 🧠5.1 Cálculo de ingresos totales de la empresa\n",
    "La empresa desea conocer sus ingresos totales."
   ]
  },
  {
   "cell_type": "code",
   "execution_count": 6,
   "metadata": {
    "colab": {
     "base_uri": "https://localhost:8080/"
    },
    "id": "ijzboKgoJm9Y",
    "outputId": "9aad5fe8-55ec-475b-9b40-afc590ae05e6"
   },
   "outputs": [
    {
     "name": "stdout",
     "output_type": "stream",
     "text": [
      "9189\n"
     ]
    }
   ],
   "source": [
    "users = [['32415', ['mike', 'reed'], 32, ['electronics', 'sport', 'books'], [894, 213, 173]],\n",
    "         ['31980', ['kate', 'morgan'], 24, ['clothes', 'books'], [439, 390]],\n",
    "         ['32156', ['john', 'doe'], 37, ['electronics', 'home', 'food'], [459, 120, 99]],\n",
    "         ['32761', ['samantha', 'smith'], 29, ['clothes', 'electronics', 'beauty'], [299, 679, 85]],\n",
    "         ['32984', ['david', 'white'], 41, ['books', 'home', 'sport'], [234, 329, 243]],\n",
    "         ['33001', ['emily', 'brown'], 26, ['beauty', 'home', 'food'], [213, 659, 79]],\n",
    "         ['33767', ['maria', 'garcia'], 33, ['clothes', 'food', 'beauty'], [499, 189, 63]],\n",
    "         ['33912', ['jose', 'martinez'], 22, ['sport', 'electronics', 'home'], [259, 549, 109]],\n",
    "         ['34009', ['lisa', 'wilson'], 35, ['home', 'books', 'clothes'], [329, 189, 329]],\n",
    "         ['34278', ['james', 'lee'], 28, ['beauty', 'clothes', 'electronics'], [189, 299, 579]]]\n",
    "\n",
    "revenue = 0\n",
    "\n",
    "for user in users:\n",
    "\tspending_list = user[-1]\n",
    "\ttotal_spendings = sum(spending_list) \n",
    "\trevenue += total_spendings\n",
    "\n",
    "print(revenue)"
   ]
  },
  {
   "cell_type": "markdown",
   "metadata": {
    "id": "R1wNYes8Jm9X"
   },
   "source": [
    "### ✨5.2 Cálculo de descuentos\n",
    "\n",
    "La empresa quiere ofrecer descuentos a sus clientes leales. Los clientes que realizan compras por un importe total mayor a $1500 se consideran leales y recibirán un descuento.\n",
    "\n",
    "Se creó un bucle `while` que comprueba el importe total gastado y se detiene al alcanzarlo. Para simular nuevas compras, la variable `new_purchase` genera un número entre 30 y 80 en cada iteración del bucle. Esto representa la cantidad de dinero gastada en una nueva compra.\n",
    "\n",
    "Una vez que se alcance el importe objetivo y se termine el bucle `while`, se muestra la cantidad final.\n"
   ]
  },
  {
   "cell_type": "code",
   "execution_count": 7,
   "metadata": {
    "colab": {
     "base_uri": "https://localhost:8080/"
    },
    "id": "eVBfoyx7Jm9X",
    "outputId": "27091cb5-f5f4-4b74-f92a-c2d822354a40"
   },
   "outputs": [
    {
     "name": "stdout",
     "output_type": "stream",
     "text": [
      "1510\n"
     ]
    }
   ],
   "source": [
    "from random import randint\n",
    "\n",
    "total_amount_spent = 1280\n",
    "target_amount = 1500\n",
    "\n",
    "while total_amount_spent < target_amount:\n",
    "\tnew_purchase = randint(30, 80) # generamos un número aleatorio de 30 a 80\n",
    "\ttotal_amount_spent += new_purchase\n",
    "\n",
    "print(total_amount_spent)"
   ]
  },
  {
   "cell_type": "markdown",
   "metadata": {
    "id": "IoyNnalCJm9Z"
   },
   "source": [
    "### 🔍 5.3 Visualización de datos\n",
    "\n",
    "📌 Se recorrío la lista de usuarios que te hemos proporcionado para mostrar los nombres de los clientes menores de 30 años.\n"
   ]
  },
  {
   "cell_type": "code",
   "execution_count": 8,
   "metadata": {
    "colab": {
     "base_uri": "https://localhost:8080/"
    },
    "id": "pn5WkcpJJm9Z",
    "outputId": "e95fe449-868e-4a89-f9e6-6e3c7b62bd80"
   },
   "outputs": [
    {
     "name": "stdout",
     "output_type": "stream",
     "text": [
      "kate\n",
      "samantha\n",
      "emily\n",
      "jose\n",
      "james\n"
     ]
    }
   ],
   "source": [
    "users = [['32415', ['mike', 'reed'], 32, ['electronics', 'sport', 'books'], [894, 213, 173]],\n",
    "         ['31980', ['kate', 'morgan'], 24, ['clothes', 'books'], [439, 390]],\n",
    "         ['32156', ['john', 'doe'], 37, ['electronics', 'home', 'food'], [459, 120, 99]],\n",
    "         ['32761', ['samantha', 'smith'], 29, ['clothes', 'electronics', 'beauty'], [299, 679, 85]],\n",
    "         ['32984', ['david', 'white'], 41, ['books', 'home', 'sport'], [234, 329, 243]],\n",
    "         ['33001', ['emily', 'brown'], 26, ['beauty', 'home', 'food'], [213, 659, 79]],\n",
    "         ['33767', ['maria', 'garcia'], 33, ['clothes', 'food', 'beauty'], [499, 189, 63]],\n",
    "         ['33912', ['jose', 'martinez'], 22, ['sport', 'electronics', 'home'], [259, 549, 109]],\n",
    "         ['34009', ['lisa', 'wilson'], 35, ['home', 'books', 'clothes'], [329, 189, 329]],\n",
    "         ['34278', ['james', 'lee'], 28, ['beauty', 'clothes', 'electronics'], [189, 299, 579]]]\n",
    "\n",
    "\n",
    "# escribe tu código aquí\n",
    "for user in users:\n",
    "    age = user[2]\n",
    "    if age < 30:\n",
    "        print(user[1][0])"
   ]
  },
  {
   "cell_type": "markdown",
   "metadata": {
    "id": "0ok38JMoJm9Z"
   },
   "source": [
    "📌 Se mostraron en pantalla los nombres de los usuarios menores de 30 años que acumulan un gasto total superior a 1000 dólares.\n"
   ]
  },
  {
   "cell_type": "code",
   "execution_count": 9,
   "metadata": {
    "colab": {
     "base_uri": "https://localhost:8080/"
    },
    "id": "4oAW1QDFJm9Z",
    "outputId": "c514027b-62cc-42bd-a8bb-d29975abd663"
   },
   "outputs": [
    {
     "name": "stdout",
     "output_type": "stream",
     "text": [
      "samantha\n",
      "james\n"
     ]
    }
   ],
   "source": [
    "users = [['32415', ['mike', 'reed'], 32, ['electronics', 'sport', 'books'], [894, 213, 173]],\n",
    "         ['31980', ['kate', 'morgan'], 24, ['clothes', 'books'], [439, 390]],\n",
    "         ['32156', ['john', 'doe'], 37, ['electronics', 'home', 'food'], [459, 120, 99]],\n",
    "         ['32761', ['samantha', 'smith'], 29, ['clothes', 'electronics', 'beauty'], [299, 679, 85]],\n",
    "         ['32984', ['david', 'white'], 41, ['books', 'home', 'sport'], [234, 329, 243]],\n",
    "         ['33001', ['emily', 'brown'], 26, ['beauty', 'home', 'food'], [213, 659, 79]],\n",
    "         ['33767', ['maria', 'garcia'], 33, ['clothes', 'food', 'beauty'], [499, 189, 63]],\n",
    "         ['33912', ['jose', 'martinez'], 22, ['sport', 'electronics', 'home'], [259, 549, 109]],\n",
    "         ['34009', ['lisa', 'wilson'], 35, ['home', 'books', 'clothes'], [329, 189, 329]],\n",
    "         ['34278', ['james', 'lee'], 28, ['beauty', 'clothes', 'electronics'], [189, 299, 579]]]\n",
    "\n",
    "# escribe tu código aquí\n",
    "for user in users:\n",
    "    age = user[2]\n",
    "    expenses = user[-1]\n",
    "    total_expenses = sum(expenses)\n",
    "    \n",
    "    if age < 30 and total_expenses > 1000:\n",
    "        print(user[1][0])"
   ]
  },
  {
   "cell_type": "markdown",
   "metadata": {
    "id": "H2jI5ljVJm9d"
   },
   "source": [
    "📌 Se mostró el nombre y la edad de todos los usuarios y todas las usuarias que han comprado ropa.\n"
   ]
  },
  {
   "cell_type": "code",
   "execution_count": 10,
   "metadata": {
    "colab": {
     "base_uri": "https://localhost:8080/"
    },
    "id": "oSLk86udJm9d",
    "outputId": "5c323307-6591-4af9-c2d2-529a329367d6"
   },
   "outputs": [
    {
     "name": "stdout",
     "output_type": "stream",
     "text": [
      "kate 24\n",
      "samantha 29\n",
      "maria 33\n",
      "lisa 35\n",
      "james 28\n"
     ]
    }
   ],
   "source": [
    "users = [['32415', ['mike', 'reed'], 32, ['electronics', 'sport', 'books'], [894, 213, 173]],\n",
    "         ['31980', ['kate', 'morgan'], 24, ['clothes', 'books'], [439, 390]],\n",
    "         ['32156', ['john', 'doe'], 37, ['electronics', 'home', 'food'], [459, 120, 99]],\n",
    "         ['32761', ['samantha', 'smith'], 29, ['clothes', 'electronics', 'beauty'], [299, 679, 85]],\n",
    "         ['32984', ['david', 'white'], 41, ['books', 'home', 'sport'], [234, 329, 243]],\n",
    "         ['33001', ['emily', 'brown'], 26, ['beauty', 'home', 'food'], [213, 659, 79]],\n",
    "         ['33767', ['maria', 'garcia'], 33, ['clothes', 'food', 'beauty'], [499, 189, 63]],\n",
    "         ['33912', ['jose', 'martinez'], 22, ['sport', 'electronics', 'home'], [259, 549, 109]],\n",
    "         ['34009', ['lisa', 'wilson'], 35, ['home', 'books', 'clothes'], [329, 189, 329]],\n",
    "         ['34278', ['james', 'lee'], 28, ['beauty', 'clothes', 'electronics'], [189, 299, 579]]]\n",
    "\n",
    "# escribe tu código aquí\n",
    "for user in users:\n",
    "    first_name = user[1][0]\n",
    "    age = user[2]\n",
    "    items = user[3]\n",
    "    \n",
    "    if 'clothes' in items:\n",
    "        print(first_name, age)"
   ]
  },
  {
   "cell_type": "markdown",
   "metadata": {
    "id": "88QES-0NJzCJ"
   },
   "source": [
    "### 📚 5.4 Función get_client_by_cat\n",
    "La dirección requiere de una función que proporcione información sobre los clientes, incluyendo sus nombres, edades y gasto total, filtrada por categorías específicas. Con base en fragmentos de código anteriores, se creó una función llamada `get_client_by_cat` con las siguientes especificaciones:\n",
    "\n",
    "1. **Parámetros:**\n",
    "   - **users:** una lista con los datos de los usuarios.\n",
    "   - **id_index:** el índice donde está almacenado el ID del cliente en la lista de usuarios.\n",
    "   - **name_index:** el índice donde está almacenado el nombre del cliente en la lista de usuarios.\n",
    "   - **age_index:** el índice donde la edad del cliente está almacenada en la lista de usuarios.\n",
    "   - **category_index:** el índice donde las categorías de compras del cliente están listadas.\n",
    "   - **amounts_index:** el índice donde las cantidades gastadas en cada categoría están almacenadas.\n",
    "   - **filter_category:** un string que representa el nombre de la categoría para filtrar clientes.\n",
    "\n",
    "2. **Salida:**\n",
    "   - La función devuelve una lista de sublistas. Cada sublista contiene:\n",
    "     - El número ID del cliente.\n",
    "     - Una sublista con el nombre y apellido del cliente.\n",
    "     - La edad del cliente.\n",
    "     - Un entero que representa la cantidad total gastada por el cliente.\n",
    "\n"
   ]
  },
  {
   "cell_type": "code",
   "execution_count": 11,
   "metadata": {
    "colab": {
     "base_uri": "https://localhost:8080/"
    },
    "id": "-Iqf7AcXJzCP",
    "outputId": "ab62869b-a028-4096-9553-e0a5b5a8c92e"
   },
   "outputs": [
    {
     "name": "stdout",
     "output_type": "stream",
     "text": [
      "[['32156', ['john', 'doe'], 37, 678], ['32984', ['david', 'white'], 41, 806], ['33001', ['emily', 'brown'], 26, 951], ['33912', ['jose', 'martinez'], 22, 917], ['34009', ['lisa', 'wilson'], 35, 847]]\n"
     ]
    }
   ],
   "source": [
    "def get_client_by_cat(users, id_index, name_index, age_index, category_index, amounts_index, filter_category):\n",
    "    result = []\n",
    "    \n",
    "    for user in users:\n",
    "        \n",
    "        if filter_category in user[category_index]: \n",
    "            total_expenses = sum(user[amounts_index])\n",
    "            \n",
    "            result.append([user[id_index],user[name_index],user[age_index],total_expenses])\n",
    "            \n",
    "    return result\n",
    "\n",
    "# La lista de usuarios\n",
    "users = [\n",
    "    ['32415', ['mike', 'reed'], 32, ['electronics', 'sport', 'books'], [894, 213, 173]],\n",
    "    ['31980', ['kate', 'morgan'], 24, ['clothes', 'books'], [439, 390]],\n",
    "    ['32156', ['john', 'doe'], 37, ['electronics', 'home', 'food'], [459, 120, 99]],\n",
    "    ['32761', ['samantha', 'smith'], 29, ['clothes', 'electronics', 'beauty'], [299, 679, 85]],\n",
    "    ['32984', ['david', 'white'], 41, ['books', 'home', 'sport'], [234, 329, 243]],\n",
    "    ['33001', ['emily', 'brown'], 26, ['beauty', 'home', 'food'], [213, 659, 79]],\n",
    "    ['33767', ['maria', 'garcia'], 33, ['clothes', 'food', 'beauty'], [499, 189, 63]],\n",
    "    ['33912', ['jose', 'martinez'], 22, ['sport', 'electronics', 'home'], [259, 549, 109]],\n",
    "    ['34009', ['lisa', 'wilson'], 35, ['home', 'books', 'clothes'], [329, 189, 329]],\n",
    "    ['34278', ['james', 'lee'], 28, ['beauty', 'clothes', 'electronics'], [189, 299, 579]]\n",
    "]\n",
    "\n",
    "# Llama a la función con la categoría 'home'\n",
    "result = get_client_by_cat(users,0,1,2,3,4,'home')\n",
    "\n",
    "# Muestra en pantalla la lista que resulta\n",
    "print(result)\n"
   ]
  },
  {
   "cell_type": "markdown",
   "metadata": {},
   "source": [
    "\n",
    "## ✅ Conclusiones Finales\n",
    "Se logró una segmentación más refinada de los clientes a partir de patrones de edad, frecuencia de compra y categorías preferidas. Esto permite identificar perfiles específicos con mayor valor comercial para la empresa.\n",
    "\n",
    "El análisis reveló que ciertos rangos de edad presentan una mayor recurrencia en categorías específicas, lo que sugiere oportunidades claras para campañas dirigidas.\n",
    "\n",
    "Se identificaron clientes leales y de alto valor que podrían beneficiarse de estrategias de fidelización o programas exclusivos.\n",
    "\n",
    "Mediante análisis exploratorios y agrupamientos, se detectaron patrones de comportamiento no evidentes en la Parte 1, como similitudes entre grupos demográficos o hábitos de compra comunes entre perfiles distintos.\n",
    "\n",
    "Estas conclusiones sientan las bases para una toma de decisiones más estratégica en términos de marketing y personalización, alineando las acciones comerciales con las características reales de la base de clientes.\n",
    "\n"
   ]
  },
  {
   "cell_type": "code",
   "execution_count": null,
   "metadata": {},
   "outputs": [],
   "source": []
  }
 ],
 "metadata": {
  "ExecuteTimeLog": [
   {
    "duration": 7,
    "start_time": "2024-09-03T02:42:03.509Z"
   },
   {
    "duration": 4,
    "start_time": "2024-09-03T02:57:46.234Z"
   },
   {
    "duration": 12,
    "start_time": "2024-09-04T01:15:32.392Z"
   },
   {
    "duration": 7,
    "start_time": "2024-09-04T02:25:04.681Z"
   },
   {
    "duration": 2192,
    "start_time": "2024-09-04T02:29:18.309Z"
   },
   {
    "duration": 7,
    "start_time": "2024-09-04T02:30:08.630Z"
   },
   {
    "duration": 9,
    "start_time": "2024-09-04T02:46:47.221Z"
   },
   {
    "duration": 3,
    "start_time": "2024-09-04T02:54:01.777Z"
   },
   {
    "duration": 7,
    "start_time": "2024-09-04T02:57:29.560Z"
   },
   {
    "duration": 25,
    "start_time": "2024-09-04T02:57:45.165Z"
   },
   {
    "duration": 21,
    "start_time": "2024-09-04T02:58:24.111Z"
   },
   {
    "duration": 22,
    "start_time": "2024-09-04T02:58:39.536Z"
   },
   {
    "duration": 19,
    "start_time": "2024-09-04T03:02:41.974Z"
   },
   {
    "duration": 6,
    "start_time": "2024-09-04T03:03:13.117Z"
   },
   {
    "duration": 6,
    "start_time": "2024-09-04T03:04:49.119Z"
   },
   {
    "duration": 5,
    "start_time": "2024-09-04T03:14:50.327Z"
   },
   {
    "duration": 5,
    "start_time": "2024-09-04T03:15:40.607Z"
   },
   {
    "duration": 5,
    "start_time": "2024-09-04T03:24:37.171Z"
   },
   {
    "duration": 6,
    "start_time": "2024-09-04T03:52:28.654Z"
   },
   {
    "duration": 7,
    "start_time": "2024-09-04T04:19:56.819Z"
   },
   {
    "duration": 4,
    "start_time": "2024-09-04T04:19:56.831Z"
   },
   {
    "duration": 2,
    "start_time": "2024-09-04T04:19:56.837Z"
   },
   {
    "duration": 6,
    "start_time": "2024-09-04T04:19:56.841Z"
   },
   {
    "duration": 7,
    "start_time": "2024-09-04T04:19:56.849Z"
   },
   {
    "duration": 7,
    "start_time": "2024-09-04T04:19:56.857Z"
   },
   {
    "duration": 4,
    "start_time": "2024-09-04T04:19:56.865Z"
   },
   {
    "duration": 5,
    "start_time": "2024-09-04T04:19:56.873Z"
   },
   {
    "duration": 6,
    "start_time": "2024-09-04T04:19:56.880Z"
   },
   {
    "duration": 6,
    "start_time": "2024-09-04T04:19:56.887Z"
   },
   {
    "duration": 48,
    "start_time": "2024-09-04T04:19:56.894Z"
   }
  ],
  "colab": {
   "provenance": []
  },
  "kernelspec": {
   "display_name": "Python 3",
   "language": "python",
   "name": "python3"
  },
  "language_info": {
   "codemirror_mode": {
    "name": "ipython",
    "version": 3
   },
   "file_extension": ".py",
   "mimetype": "text/x-python",
   "name": "python",
   "nbconvert_exporter": "python",
   "pygments_lexer": "ipython3",
   "version": "3.12.4"
  },
  "toc": {
   "base_numbering": 1,
   "nav_menu": {},
   "number_sections": true,
   "sideBar": true,
   "skip_h1_title": true,
   "title_cell": "Table of Contents",
   "title_sidebar": "Contents",
   "toc_cell": false,
   "toc_position": {},
   "toc_section_display": true,
   "toc_window_display": false
  }
 },
 "nbformat": 4,
 "nbformat_minor": 4
}
